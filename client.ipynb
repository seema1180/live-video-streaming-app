{
 "cells": [
  {
   "cell_type": "code",
   "execution_count": 1,
   "id": "03c19b9f",
   "metadata": {},
   "outputs": [],
   "source": [
    "#Client\n",
    "import socket,cv2,pickle, struct"
   ]
  },
  {
   "cell_type": "code",
   "execution_count": null,
   "id": "6822c13a",
   "metadata": {},
   "outputs": [],
   "source": [
    "client_socket= socket.socket(socket.AF_INET,socket.SOCK_STREAM)\n",
    "host_ip='192.168.249.1'#server ip\n",
    "port=9999\n",
    "client_socket.connect((host_ip,port))#a tuple\n",
    "data=b\"\"\n",
    "payload_size= struct.calcsize(\"Q\")\n",
    "while True:\n",
    "    while len(data) < payload_size:\n",
    "        packet=client_socket.recv(4*1024)\n",
    "        if not packet: break\n",
    "        data+=packet\n",
    "\n",
    "    packet_msg_size=data[:payload_size]\n",
    "    data= data[payload_size:]\n",
    "    msg_size= struct.unpack(\"Q\",packet_msg_size)[0]\n",
    "        \n",
    "        \n",
    "    while len(data) < msg_size:\n",
    "        data += client_socket.recv(4*1024)\n",
    "    frame_data= data[:msg_size]\n",
    "    data=data[msg_size:]\n",
    "    frame= pickle.loads(frame_data)\n",
    "    cv2.imshow(\"Receving video\", frame)\n",
    "    key=cv2.waitKey(1) & 0xFF\n",
    "    if key== ord('q'):\n",
    "        break\n",
    "client_socket.close()\n",
    "            \n",
    "            "
   ]
  },
  {
   "cell_type": "code",
   "execution_count": null,
   "id": "91a9037c",
   "metadata": {},
   "outputs": [],
   "source": []
  }
 ],
 "metadata": {
  "kernelspec": {
   "display_name": "Python 3",
   "language": "python",
   "name": "python3"
  },
  "language_info": {
   "codemirror_mode": {
    "name": "ipython",
    "version": 3
   },
   "file_extension": ".py",
   "mimetype": "text/x-python",
   "name": "python",
   "nbconvert_exporter": "python",
   "pygments_lexer": "ipython3",
   "version": "3.8.8"
  }
 },
 "nbformat": 4,
 "nbformat_minor": 5
}
